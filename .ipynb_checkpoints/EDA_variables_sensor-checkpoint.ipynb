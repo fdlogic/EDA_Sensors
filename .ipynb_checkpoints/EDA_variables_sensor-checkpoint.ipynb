{
 "cells": [
  {
   "cell_type": "markdown",
   "id": "60ae277b",
   "metadata": {},
   "source": [
    "### EDA apllied to humidity and temperature values\n",
    "\n",
    "This Notebook take the humidity and temperature obtained from a DHT 22 sensor and apply EDA (Exploratory Data Analysis)"
   ]
  },
  {
   "cell_type": "code",
   "execution_count": 1,
   "id": "d4288300",
   "metadata": {},
   "outputs": [],
   "source": [
    "import pandas as pd\n",
    "import seaborn as sb\n",
    "import matplotlib.pyplot as plt "
   ]
  },
  {
   "cell_type": "markdown",
   "id": "943e24fd",
   "metadata": {},
   "source": [
    "### Read the voltage"
   ]
  },
  {
   "cell_type": "code",
   "execution_count": 2,
   "id": "09b13cbc",
   "metadata": {},
   "outputs": [
    {
     "data": {
      "text/html": [
       "<div>\n",
       "<style scoped>\n",
       "    .dataframe tbody tr th:only-of-type {\n",
       "        vertical-align: middle;\n",
       "    }\n",
       "\n",
       "    .dataframe tbody tr th {\n",
       "        vertical-align: top;\n",
       "    }\n",
       "\n",
       "    .dataframe thead th {\n",
       "        text-align: right;\n",
       "    }\n",
       "</style>\n",
       "<table border=\"1\" class=\"dataframe\">\n",
       "  <thead>\n",
       "    <tr style=\"text-align: right;\">\n",
       "      <th></th>\n",
       "      <th>time_stamp</th>\n",
       "      <th>id</th>\n",
       "      <th>humidity</th>\n",
       "      <th>temperature</th>\n",
       "    </tr>\n",
       "  </thead>\n",
       "  <tbody>\n",
       "    <tr>\n",
       "      <th>0</th>\n",
       "      <td>2020-07-24 16:42:34 -0400</td>\n",
       "      <td>1062238</td>\n",
       "      <td>55.0</td>\n",
       "      <td>22.2</td>\n",
       "    </tr>\n",
       "    <tr>\n",
       "      <th>1</th>\n",
       "      <td>2020-07-24 16:42:51 -0400</td>\n",
       "      <td>1062239</td>\n",
       "      <td>54.7</td>\n",
       "      <td>22.1</td>\n",
       "    </tr>\n",
       "    <tr>\n",
       "      <th>2</th>\n",
       "      <td>2020-07-24 16:43:07 -0400</td>\n",
       "      <td>1062240</td>\n",
       "      <td>54.8</td>\n",
       "      <td>22.2</td>\n",
       "    </tr>\n",
       "    <tr>\n",
       "      <th>3</th>\n",
       "      <td>2020-07-24 16:43:23 -0400</td>\n",
       "      <td>1062241</td>\n",
       "      <td>54.7</td>\n",
       "      <td>22.1</td>\n",
       "    </tr>\n",
       "    <tr>\n",
       "      <th>4</th>\n",
       "      <td>2020-07-24 16:43:40 -0400</td>\n",
       "      <td>1062242</td>\n",
       "      <td>54.6</td>\n",
       "      <td>22.1</td>\n",
       "    </tr>\n",
       "    <tr>\n",
       "      <th>5</th>\n",
       "      <td>2020-07-24 16:43:56 -0400</td>\n",
       "      <td>1062243</td>\n",
       "      <td>54.9</td>\n",
       "      <td>22.2</td>\n",
       "    </tr>\n",
       "    <tr>\n",
       "      <th>6</th>\n",
       "      <td>2020-07-24 16:44:12 -0400</td>\n",
       "      <td>1062244</td>\n",
       "      <td>55.0</td>\n",
       "      <td>22.2</td>\n",
       "    </tr>\n",
       "    <tr>\n",
       "      <th>7</th>\n",
       "      <td>2020-07-24 16:44:29 -0400</td>\n",
       "      <td>1062245</td>\n",
       "      <td>55.2</td>\n",
       "      <td>22.2</td>\n",
       "    </tr>\n",
       "    <tr>\n",
       "      <th>8</th>\n",
       "      <td>2020-07-24 16:44:45 -0400</td>\n",
       "      <td>1062246</td>\n",
       "      <td>55.5</td>\n",
       "      <td>22.2</td>\n",
       "    </tr>\n",
       "    <tr>\n",
       "      <th>9</th>\n",
       "      <td>2020-07-24 16:45:01 -0400</td>\n",
       "      <td>1062247</td>\n",
       "      <td>55.4</td>\n",
       "      <td>22.2</td>\n",
       "    </tr>\n",
       "  </tbody>\n",
       "</table>\n",
       "</div>"
      ],
      "text/plain": [
       "                  time_stamp       id  humidity  temperature\n",
       "0  2020-07-24 16:42:34 -0400  1062238      55.0         22.2\n",
       "1  2020-07-24 16:42:51 -0400  1062239      54.7         22.1\n",
       "2  2020-07-24 16:43:07 -0400  1062240      54.8         22.2\n",
       "3  2020-07-24 16:43:23 -0400  1062241      54.7         22.1\n",
       "4  2020-07-24 16:43:40 -0400  1062242      54.6         22.1\n",
       "5  2020-07-24 16:43:56 -0400  1062243      54.9         22.2\n",
       "6  2020-07-24 16:44:12 -0400  1062244      55.0         22.2\n",
       "7  2020-07-24 16:44:29 -0400  1062245      55.2         22.2\n",
       "8  2020-07-24 16:44:45 -0400  1062246      55.5         22.2\n",
       "9  2020-07-24 16:45:01 -0400  1062247      55.4         22.2"
      ]
     },
     "execution_count": 2,
     "metadata": {},
     "output_type": "execute_result"
    }
   ],
   "source": [
    "#Read the .csv file\n",
    "df = pd.read_csv(\"Variables_sensor.csv\")\n",
    "\n",
    "#Change the columns name\n",
    "df.columns = ['time_stamp', 'id', 'humidity', 'temperature']\n",
    "df.head(10)"
   ]
  },
  {
   "cell_type": "code",
   "execution_count": 3,
   "id": "036e1f27",
   "metadata": {},
   "outputs": [
    {
     "data": {
      "text/plain": [
       "(100, 4)"
      ]
     },
     "execution_count": 3,
     "metadata": {},
     "output_type": "execute_result"
    }
   ],
   "source": [
    "df.shape"
   ]
  },
  {
   "cell_type": "code",
   "execution_count": 4,
   "id": "1bedf00c",
   "metadata": {},
   "outputs": [],
   "source": [
    "#Filtering the columns\n",
    "time = df[\"time_stamp\"]  \n",
    "humidity = df[\"humidity\"]\n",
    "temperature = df[\"temperature\"]\n",
    "\n",
    "#From time and voltage, take the first 25 values\n",
    "upper_limit = 25\n",
    "time = time.iloc[0:upper_limit]\n",
    "humidity = humidity.iloc[0:upper_limit]\n",
    "temperature = temperature.iloc[0:upper_limit]"
   ]
  },
  {
   "cell_type": "code",
   "execution_count": 5,
   "id": "9fe0d76a",
   "metadata": {},
   "outputs": [
    {
     "data": {
      "image/png": "[encoded data removed]",
      "text/plain": [
       "<Figure size 432x288 with 1 Axes>"
      ]
     },
     "metadata": {
      "needs_background": "light"
     },
     "output_type": "display_data"
    }
   ],
   "source": [
    "plt.plot(time, temperature)\n",
    " \n",
    "# rotating the x-axis tick labels at 90 degree\n",
    "plt.xticks(rotation=90)\n",
    " \n",
    "# Labels\n",
    "plt.title('Temperature vs time')\n",
    "plt.xlabel('Time [s]')\n",
    "plt.ylabel('Temperature [ºC]')\n",
    "\n",
    "plt.grid()"
   ]
  },
  {
   "cell_type": "code",
   "execution_count": 6,
   "id": "a9659d65",
   "metadata": {},
   "outputs": [
    {
     "data": {
      "image/png": "[encoded data removed]",
      "text/plain": [
       "<Figure size 432x288 with 1 Axes>"
      ]
     },
     "metadata": {
      "needs_background": "light"
     },
     "output_type": "display_data"
    }
   ],
   "source": [
    "plt.plot(time, humidity)\n",
    " \n",
    "# rotating the x-axis tick labels at 90 degree\n",
    "plt.xticks(rotation=90)\n",
    " \n",
    "# Labels\n",
    "plt.title('Humidity vs time')\n",
    "plt.xlabel('Time [s]')\n",
    "plt.ylabel('Humidity [%]')\n",
    "\n",
    "plt.grid()"
   ]
  },
  {
   "cell_type": "markdown",
   "id": "6d2152a1",
   "metadata": {},
   "source": [
    "### Statistics"
   ]
  },
  {
   "cell_type": "code",
   "execution_count": 7,
   "id": "e2543dad",
   "metadata": {},
   "outputs": [
    {
     "data": {
      "text/html": [
       "<div>\n",
       "<style scoped>\n",
       "    .dataframe tbody tr th:only-of-type {\n",
       "        vertical-align: middle;\n",
       "    }\n",
       "\n",
       "    .dataframe tbody tr th {\n",
       "        vertical-align: top;\n",
       "    }\n",
       "\n",
       "    .dataframe thead th {\n",
       "        text-align: right;\n",
       "    }\n",
       "</style>\n",
       "<table border=\"1\" class=\"dataframe\">\n",
       "  <thead>\n",
       "    <tr style=\"text-align: right;\">\n",
       "      <th></th>\n",
       "      <th>humidity</th>\n",
       "      <th>temperature</th>\n",
       "    </tr>\n",
       "  </thead>\n",
       "  <tbody>\n",
       "    <tr>\n",
       "      <th>count</th>\n",
       "      <td>100.000000</td>\n",
       "      <td>100.000000</td>\n",
       "    </tr>\n",
       "    <tr>\n",
       "      <th>mean</th>\n",
       "      <td>54.540000</td>\n",
       "      <td>22.182000</td>\n",
       "    </tr>\n",
       "    <tr>\n",
       "      <th>std</th>\n",
       "      <td>1.042433</td>\n",
       "      <td>0.376958</td>\n",
       "    </tr>\n",
       "    <tr>\n",
       "      <th>min</th>\n",
       "      <td>52.000000</td>\n",
       "      <td>21.600000</td>\n",
       "    </tr>\n",
       "    <tr>\n",
       "      <th>25%</th>\n",
       "      <td>53.600000</td>\n",
       "      <td>21.900000</td>\n",
       "    </tr>\n",
       "    <tr>\n",
       "      <th>50%</th>\n",
       "      <td>54.850000</td>\n",
       "      <td>22.100000</td>\n",
       "    </tr>\n",
       "    <tr>\n",
       "      <th>75%</th>\n",
       "      <td>55.400000</td>\n",
       "      <td>22.500000</td>\n",
       "    </tr>\n",
       "    <tr>\n",
       "      <th>max</th>\n",
       "      <td>55.900000</td>\n",
       "      <td>22.900000</td>\n",
       "    </tr>\n",
       "  </tbody>\n",
       "</table>\n",
       "</div>"
      ],
      "text/plain": [
       "         humidity  temperature\n",
       "count  100.000000   100.000000\n",
       "mean    54.540000    22.182000\n",
       "std      1.042433     0.376958\n",
       "min     52.000000    21.600000\n",
       "25%     53.600000    21.900000\n",
       "50%     54.850000    22.100000\n",
       "75%     55.400000    22.500000\n",
       "max     55.900000    22.900000"
      ]
     },
     "execution_count": 7,
     "metadata": {},
     "output_type": "execute_result"
    }
   ],
   "source": [
    "df[[\"humidity\", \"temperature\"]].describe()"
   ]
  },
  {
   "cell_type": "markdown",
   "id": "018fc278",
   "metadata": {},
   "source": [
    "### Boxplots"
   ]
  },
  {
   "cell_type": "code",
   "execution_count": 8,
   "id": "63865e02",
   "metadata": {},
   "outputs": [
    {
     "data": {
      "text/plain": [
       "<AxesSubplot:>"
      ]
     },
     "execution_count": 8,
     "metadata": {},
     "output_type": "execute_result"
    },
    {
     "data": {
      "image/png": "[encoded data removed]",
      "text/plain": [
       "<Figure size 432x288 with 1 Axes>"
      ]
     },
     "metadata": {
      "needs_background": "light"
     },
     "output_type": "display_data"
    }
   ],
   "source": [
    "df.boxplot(column=[\"humidity\"])"
   ]
  },
  {
   "cell_type": "code",
   "execution_count": 9,
   "id": "ce0946fc",
   "metadata": {},
   "outputs": [
    {
     "data": {
      "text/plain": [
       "<AxesSubplot:>"
      ]
     },
     "execution_count": 9,
     "metadata": {},
     "output_type": "execute_result"
    },
    {
     "data": {
      "image/png": "[encoded data removed]",
      "text/plain": [
       "<Figure size 432x288 with 1 Axes>"
      ]
     },
     "metadata": {
      "needs_background": "light"
     },
     "output_type": "display_data"
    }
   ],
   "source": [
    "df.boxplot(column=[\"temperature\"])"
   ]
  },
  {
   "cell_type": "markdown",
   "id": "06503ebf",
   "metadata": {},
   "source": [
    "### Correlation Analysis"
   ]
  },
  {
   "cell_type": "code",
   "execution_count": 10,
   "id": "5cb03663",
   "metadata": {},
   "outputs": [],
   "source": [
    "#First, we delete the time stamp and id variables for obtain the correlation between temperature and humidity\n",
    "df = df.drop(['time_stamp', 'id'], axis=1)"
   ]
  },
  {
   "cell_type": "code",
   "execution_count": 11,
   "id": "73413772",
   "metadata": {},
   "outputs": [
    {
     "data": {
      "text/html": [
       "<div>\n",
       "<style scoped>\n",
       "    .dataframe tbody tr th:only-of-type {\n",
       "        vertical-align: middle;\n",
       "    }\n",
       "\n",
       "    .dataframe tbody tr th {\n",
       "        vertical-align: top;\n",
       "    }\n",
       "\n",
       "    .dataframe thead th {\n",
       "        text-align: right;\n",
       "    }\n",
       "</style>\n",
       "<table border=\"1\" class=\"dataframe\">\n",
       "  <thead>\n",
       "    <tr style=\"text-align: right;\">\n",
       "      <th></th>\n",
       "      <th>humidity</th>\n",
       "      <th>temperature</th>\n",
       "    </tr>\n",
       "  </thead>\n",
       "  <tbody>\n",
       "    <tr>\n",
       "      <th>humidity</th>\n",
       "      <td>1.000000</td>\n",
       "      <td>-0.809411</td>\n",
       "    </tr>\n",
       "    <tr>\n",
       "      <th>temperature</th>\n",
       "      <td>-0.809411</td>\n",
       "      <td>1.000000</td>\n",
       "    </tr>\n",
       "  </tbody>\n",
       "</table>\n",
       "</div>"
      ],
      "text/plain": [
       "             humidity  temperature\n",
       "humidity     1.000000    -0.809411\n",
       "temperature -0.809411     1.000000"
      ]
     },
     "execution_count": 11,
     "metadata": {},
     "output_type": "execute_result"
    }
   ],
   "source": [
    "#Compute the Pearson correlation\n",
    "pearsoncorr = df.corr(method='pearson')\n",
    "pearsoncorr"
   ]
  },
  {
   "cell_type": "code",
   "execution_count": 12,
   "id": "e7124676",
   "metadata": {},
   "outputs": [
    {
     "data": {
      "text/plain": [
       "<AxesSubplot:>"
      ]
     },
     "execution_count": 12,
     "metadata": {},
     "output_type": "execute_result"
    },
    {
     "data": {
      "image/png": "[encoded data removed]",
      "text/plain": [
       "<Figure size 432x288 with 2 Axes>"
      ]
     },
     "metadata": {
      "needs_background": "light"
     },
     "output_type": "display_data"
    }
   ],
   "source": [
    "#Add a map color to the correlation for improve the analysis\n",
    "sb.heatmap(pearsoncorr, \n",
    "           xticklabels=pearsoncorr.columns,\n",
    "           yticklabels=pearsoncorr.columns,\n",
    "           cmap='RdBu_r',\n",
    "           annot=True,\n",
    "           linewidth=0.5)"
   ]
  },
  {
   "cell_type": "code",
   "execution_count": null,
   "id": "85f61eb9",
   "metadata": {},
   "outputs": [],
   "source": []
  }
 ],
 "metadata": {
  "kernelspec": {
   "display_name": "Python 3 (ipykernel)",
   "language": "python",
   "name": "python3"
  },
  "language_info": {
   "codemirror_mode": {
    "name": "ipython",
    "version": 3
   },
   "file_extension": ".py",
   "mimetype": "text/x-python",
   "name": "python",
   "nbconvert_exporter": "python",
   "pygments_lexer": "ipython3",
   "version": "3.9.7"
  }
 },
 "nbformat": 4,
 "nbformat_minor": 5
}
